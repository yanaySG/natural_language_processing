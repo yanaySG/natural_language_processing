{
 "cells": [
  {
   "cell_type": "markdown",
   "metadata": {},
   "source": [
    "## Welcome to the IGZ AI Challenge!\n",
    "\n",
    "In this test you will face a common challenge in the AI world: **Natural Language Processing**\n",
    "\n",
    "After a few theoretical questions to test your general knowledge/experience in this specific domain of AI, a real-world use case will be presented to you. In order to complete the test you will be first asked to develop a Machine Learning model which satisfies our client’s requirements and then to answer some additional questions about the post-modeling phase, facing some of the challenges encountered in each AI project."
   ]
  },
  {
   "cell_type": "markdown",
   "metadata": {},
   "source": [
    "## Theory"
   ]
  },
  {
   "cell_type": "markdown",
   "metadata": {},
   "source": [
    "#### 1) What techniques do you know for working with NLP data?"
   ]
  },
  {
   "cell_type": "markdown",
   "metadata": {},
   "source": [
    "<font color='darkblue'>\n",
    "\n",
    "- Tokenization: break the text into pieces (n_grams: word of frases) that a machine can understand.\n",
    "\n",
    "- Stopwords: Identify and delete stopwords. Stop words are those words have a very little meaning like articles, pronouns, conjunctions, etc. \n",
    "    \n",
    "- Part of Speech Tagging (pos tagging): Identify each token’s part of speech (noun, adverb, adjective, etc.) and then tagging it as such to recognize entities, extract themes, and to process sentiment. \n",
    "\n",
    "- Word Stemming: Find the root word by cutting off its afixes. This indiscriminate cutting is not always successful because usually, the resultant word doesn't have a meaning.\n",
    "\n",
    "- Lemmatization: Find the root word taking into consideration a vocabulary and morphological analysis by using detailed dictionaries which the algorithm can look through to link the form back to its lemma.\n",
    "    \n",
    "- Named-entity recognition (NER): Seeks, locate and classify entities into pre-defined categories such as person names, organizations,  monetary values, percentages, places, etc. \n",
    "\n",
    "- Topic extraction: Identify relevant concepts that appear in the text.\n",
    "\n",
    "- Sentiment analysis: Determine the polarity (positive, negative or neutral) expressed in a text.\n",
    "    \n",
    "</font>"
   ]
  },
  {
   "cell_type": "markdown",
   "metadata": {},
   "source": [
    "#### 2) What metrics would you use to evaluate the results?"
   ]
  },
  {
   "cell_type": "markdown",
   "metadata": {},
   "source": [
    "<font color='darkblue'>\n",
    "\n",
    "After applying a machine learning model, it is possible to evaluate the results with the following metrics:\n",
    "\n",
    "- True positive (TP): Correctly predicted positive values, value of actual class is the same of predicted class.\n",
    "    \n",
    "- True negative\t(TN): Correctly predicted negative values, value of actual class is the same of predicted class.\n",
    "\n",
    "- False positive (FP): incorrectly predicted positive values, actual class contradicts the predicted class.\t\n",
    "\n",
    "- False negative (FN): incorrectly predicted negative values, actual class contradicts the predicted class.\n",
    "    \n",
    "- Confusion matrix: Describe the performance of a classification model placing in a matrix the result of the model against the real test values\n",
    "\n",
    "- Accuracy: Is the most intuitive performance measure. It is the ratio of correctly predicted observation to the total observations. The higher the precision, the better the model. Accuracy=TP+TN/TP+FP+FN+TN \n",
    "    \n",
    "- Precision: Ratio of correctly predicted positive observations to the total predicted positive observations.High precision relates to the low false positive rate. Precision=TP/TP+FP\n",
    "    \n",
    "- Recall (Sensitivity): Ratio of correctly predicted positive observations to the all observations in actual positive class. Recall = TP/TP+FN\n",
    "    \n",
    "- F1-score: Is the weighted average of Precision and Recall. F1 is usually more useful than accuracy, in an uneven class distribution. Accuracy works best if false positives and false negatives have similar cost, but if the cost of false positives and false negatives are very different, it’s better to look at both Precision and Recall. \n",
    "\n",
    "- ROC curve: Summarize the trade-off between the true-positive rate and false-positive rate for a predictive model using different probability thresholds. it is represented as a graph showing the performance of a classification. \n",
    "    \n",
    "- AUC: Area under the ROC curve. AUC Measures how well predictions rank, rather than their absolute values regardless of which rank threshold is chosen. The AUC ranges in value from 0 to 1, where and 1 means predictions are 100% correct and viceversa.\n",
    "    \n",
    "</font>"
   ]
  },
  {
   "cell_type": "markdown",
   "metadata": {},
   "source": [
    "## Use case: the automatic fake-news detector tool\n",
    "\n",
    "Thanks to the advent of the World Wide Web and the rapid adoption of social media platforms (such as Facebook and Twitter), they paved the way for information dissemination. It became easier for consumers to acquire the latest news at their fingertips. However, there has been a rapid increase in the spread of fake news in the last decade.\n",
    "\n",
    "TrendiNexus ML is a digital marketing company that is increasingly focusing on content strategies. Most of their posts are based on political campaigns and other news about those campaigns.\n",
    "\n",
    "Being classified as a fake news outlet can drastically decrease your popularity and damage your good name. For this reason, TrendiNexus ML wants to publish only that information that it has been able to contrast and verify. \n",
    "\n",
    "The business goal of the challenge is to help the client to detect fake news to mitigate the impact which they have.\n",
    "\n",
    "The ML objective of the challenge is to identify if a set of news is fake or not. To do this, you need to build an ML model with two requirements:\n",
    "- At least 95% of fake news has to be correctly classified \n",
    "- Perform a deep analysis in order to understand why the model misclassified the real news as fake news.\n"
   ]
  },
  {
   "cell_type": "markdown",
   "metadata": {},
   "source": [
    "To achieve this objective, the available dataset is composed of two different csv files organized by the two classes.\n",
    "\n",
    "## Dataset cite:\n",
    "```\n",
    "Ahmed H, Traore I, Saad S. “Detecting opinion spams and fake news using text classification”, Journal of Security and Privacy, Volume 1, Issue 1, Wiley, January/February 2018.\n",
    "\n",
    "Ahmed H, Traore I, Saad S. (2017) “Detection of Online Fake News Using N-Gram Analysis and Machine Learning Techniques. In: Traore I., Woungang I., Awad A. (eds) Intelligent, Secure, and Dependable Systems in Distributed and Cloud Environments. ISDDC 2017. Lecture Notes in Computer Science, vol 10618. Springer, Cham (pp. 127-138).\n",
    "```"
   ]
  },
  {
   "cell_type": "markdown",
   "metadata": {},
   "source": [
    "#### IMPORTANT: Please send your solution even if the threshold above (95%) is not satisfied. For the final evaluation, aspects such exploratory data analysis and methodology are important, not only the model results. "
   ]
  },
  {
   "cell_type": "markdown",
   "metadata": {},
   "source": [
    "## Remarks\n",
    "\n",
    "- The programming language by default is *Python*.\n",
    "\n",
    "- A default set of Data Science libraries are available. They can be listed executing:\n",
    "\n",
    "```bash\n",
    "!pip freeze\n",
    "```\n",
    "\n",
    "- If you need a library that is not installed, please contact an IGZ team member"
   ]
  },
  {
   "cell_type": "markdown",
   "metadata": {},
   "source": [
    "<div class=\"alert-info\">\n",
    "INIT\n",
    "</div>"
   ]
  },
  {
   "cell_type": "markdown",
   "metadata": {},
   "source": [
    "# $\\color{darkblue}{\\text{Loading and manipulating data}}$"
   ]
  },
  {
   "cell_type": "code",
   "execution_count": 1,
   "metadata": {},
   "outputs": [
    {
     "name": "stdout",
     "output_type": "stream",
     "text": [
      "Length:  \n",
      "    True news:  21417 \n",
      "    Fake news:  23481 \n",
      "\n",
      "Columns:  \n",
      "    True news:  ['title' 'text' 'subject' 'date'] \n",
      "    Fake news:  ['title' 'text' 'subject' 'date'] \n",
      "\n",
      "Types:  \n",
      "True news:\n",
      " title      object\n",
      "text       object\n",
      "subject    object\n",
      "date       object\n",
      "dtype: object \n",
      "\n",
      "Fake news:\n",
      " title      object\n",
      "text       object\n",
      "subject    object\n",
      "date       object\n",
      "dtype: object\n"
     ]
    }
   ],
   "source": [
    "import numpy as np\n",
    "import pandas as pd\n",
    "\n",
    "true_news = pd.read_csv(\"data/True.csv\")\n",
    "fake_news = pd.read_csv(\"data/Fake.csv\")\n",
    "\n",
    "print(\"Length: \", \"\\n    True news: \", len(true_news), \"\\n    Fake news: \", len(fake_news), \"\\n\") \n",
    "print(\"Columns: \", \"\\n    True news: \", true_news.columns.values, \"\\n    Fake news: \", fake_news.columns.values, \"\\n\")\n",
    "\n",
    "print(\"Types: \", \"\\nTrue news:\\n\", true_news.dtypes, \"\\n\\nFake news:\\n\", fake_news.dtypes)"
   ]
  },
  {
   "cell_type": "code",
   "execution_count": 2,
   "metadata": {},
   "outputs": [],
   "source": [
    "true_news[\"ToF\"] = \"TRUE\"\n",
    "fake_news[\"ToF\"] = \"FAKE\""
   ]
  },
  {
   "cell_type": "code",
   "execution_count": 3,
   "metadata": {},
   "outputs": [
    {
     "data": {
      "text/html": [
       "<div>\n",
       "<style scoped>\n",
       "    .dataframe tbody tr th:only-of-type {\n",
       "        vertical-align: middle;\n",
       "    }\n",
       "\n",
       "    .dataframe tbody tr th {\n",
       "        vertical-align: top;\n",
       "    }\n",
       "\n",
       "    .dataframe thead th {\n",
       "        text-align: right;\n",
       "    }\n",
       "</style>\n",
       "<table border=\"1\" class=\"dataframe\">\n",
       "  <thead>\n",
       "    <tr style=\"text-align: right;\">\n",
       "      <th></th>\n",
       "      <th>title</th>\n",
       "      <th>text</th>\n",
       "      <th>subject</th>\n",
       "      <th>date</th>\n",
       "      <th>ToF</th>\n",
       "    </tr>\n",
       "  </thead>\n",
       "  <tbody>\n",
       "    <tr>\n",
       "      <th>0</th>\n",
       "      <td>As U.S. budget fight looms, Republicans flip t...</td>\n",
       "      <td>WASHINGTON (Reuters) - The head of a conservat...</td>\n",
       "      <td>politicsNews</td>\n",
       "      <td>December 31, 2017</td>\n",
       "      <td>TRUE</td>\n",
       "    </tr>\n",
       "    <tr>\n",
       "      <th>1</th>\n",
       "      <td>U.S. military to accept transgender recruits o...</td>\n",
       "      <td>WASHINGTON (Reuters) - Transgender people will...</td>\n",
       "      <td>politicsNews</td>\n",
       "      <td>December 29, 2017</td>\n",
       "      <td>TRUE</td>\n",
       "    </tr>\n",
       "    <tr>\n",
       "      <th>2</th>\n",
       "      <td>Senior U.S. Republican senator: 'Let Mr. Muell...</td>\n",
       "      <td>WASHINGTON (Reuters) - The special counsel inv...</td>\n",
       "      <td>politicsNews</td>\n",
       "      <td>December 31, 2017</td>\n",
       "      <td>TRUE</td>\n",
       "    </tr>\n",
       "    <tr>\n",
       "      <th>3</th>\n",
       "      <td>FBI Russia probe helped by Australian diplomat...</td>\n",
       "      <td>WASHINGTON (Reuters) - Trump campaign adviser ...</td>\n",
       "      <td>politicsNews</td>\n",
       "      <td>December 30, 2017</td>\n",
       "      <td>TRUE</td>\n",
       "    </tr>\n",
       "    <tr>\n",
       "      <th>4</th>\n",
       "      <td>Trump wants Postal Service to charge 'much mor...</td>\n",
       "      <td>SEATTLE/WASHINGTON (Reuters) - President Donal...</td>\n",
       "      <td>politicsNews</td>\n",
       "      <td>December 29, 2017</td>\n",
       "      <td>TRUE</td>\n",
       "    </tr>\n",
       "    <tr>\n",
       "      <th>...</th>\n",
       "      <td>...</td>\n",
       "      <td>...</td>\n",
       "      <td>...</td>\n",
       "      <td>...</td>\n",
       "      <td>...</td>\n",
       "    </tr>\n",
       "    <tr>\n",
       "      <th>23476</th>\n",
       "      <td>McPain: John McCain Furious That Iran Treated ...</td>\n",
       "      <td>21st Century Wire says As 21WIRE reported earl...</td>\n",
       "      <td>Middle-east</td>\n",
       "      <td>January 16, 2016</td>\n",
       "      <td>FAKE</td>\n",
       "    </tr>\n",
       "    <tr>\n",
       "      <th>23477</th>\n",
       "      <td>JUSTICE? Yahoo Settles E-mail Privacy Class-ac...</td>\n",
       "      <td>21st Century Wire says It s a familiar theme. ...</td>\n",
       "      <td>Middle-east</td>\n",
       "      <td>January 16, 2016</td>\n",
       "      <td>FAKE</td>\n",
       "    </tr>\n",
       "    <tr>\n",
       "      <th>23478</th>\n",
       "      <td>Sunnistan: US and Allied ‘Safe Zone’ Plan to T...</td>\n",
       "      <td>Patrick Henningsen  21st Century WireRemember ...</td>\n",
       "      <td>Middle-east</td>\n",
       "      <td>January 15, 2016</td>\n",
       "      <td>FAKE</td>\n",
       "    </tr>\n",
       "    <tr>\n",
       "      <th>23479</th>\n",
       "      <td>How to Blow $700 Million: Al Jazeera America F...</td>\n",
       "      <td>21st Century Wire says Al Jazeera America will...</td>\n",
       "      <td>Middle-east</td>\n",
       "      <td>January 14, 2016</td>\n",
       "      <td>FAKE</td>\n",
       "    </tr>\n",
       "    <tr>\n",
       "      <th>23480</th>\n",
       "      <td>10 U.S. Navy Sailors Held by Iranian Military ...</td>\n",
       "      <td>21st Century Wire says As 21WIRE predicted in ...</td>\n",
       "      <td>Middle-east</td>\n",
       "      <td>January 12, 2016</td>\n",
       "      <td>FAKE</td>\n",
       "    </tr>\n",
       "  </tbody>\n",
       "</table>\n",
       "<p>44898 rows × 5 columns</p>\n",
       "</div>"
      ],
      "text/plain": [
       "                                                   title  \\\n",
       "0      As U.S. budget fight looms, Republicans flip t...   \n",
       "1      U.S. military to accept transgender recruits o...   \n",
       "2      Senior U.S. Republican senator: 'Let Mr. Muell...   \n",
       "3      FBI Russia probe helped by Australian diplomat...   \n",
       "4      Trump wants Postal Service to charge 'much mor...   \n",
       "...                                                  ...   \n",
       "23476  McPain: John McCain Furious That Iran Treated ...   \n",
       "23477  JUSTICE? Yahoo Settles E-mail Privacy Class-ac...   \n",
       "23478  Sunnistan: US and Allied ‘Safe Zone’ Plan to T...   \n",
       "23479  How to Blow $700 Million: Al Jazeera America F...   \n",
       "23480  10 U.S. Navy Sailors Held by Iranian Military ...   \n",
       "\n",
       "                                                    text       subject  \\\n",
       "0      WASHINGTON (Reuters) - The head of a conservat...  politicsNews   \n",
       "1      WASHINGTON (Reuters) - Transgender people will...  politicsNews   \n",
       "2      WASHINGTON (Reuters) - The special counsel inv...  politicsNews   \n",
       "3      WASHINGTON (Reuters) - Trump campaign adviser ...  politicsNews   \n",
       "4      SEATTLE/WASHINGTON (Reuters) - President Donal...  politicsNews   \n",
       "...                                                  ...           ...   \n",
       "23476  21st Century Wire says As 21WIRE reported earl...   Middle-east   \n",
       "23477  21st Century Wire says It s a familiar theme. ...   Middle-east   \n",
       "23478  Patrick Henningsen  21st Century WireRemember ...   Middle-east   \n",
       "23479  21st Century Wire says Al Jazeera America will...   Middle-east   \n",
       "23480  21st Century Wire says As 21WIRE predicted in ...   Middle-east   \n",
       "\n",
       "                     date   ToF  \n",
       "0      December 31, 2017   TRUE  \n",
       "1      December 29, 2017   TRUE  \n",
       "2      December 31, 2017   TRUE  \n",
       "3      December 30, 2017   TRUE  \n",
       "4      December 29, 2017   TRUE  \n",
       "...                   ...   ...  \n",
       "23476    January 16, 2016  FAKE  \n",
       "23477    January 16, 2016  FAKE  \n",
       "23478    January 15, 2016  FAKE  \n",
       "23479    January 14, 2016  FAKE  \n",
       "23480    January 12, 2016  FAKE  \n",
       "\n",
       "[44898 rows x 5 columns]"
      ]
     },
     "execution_count": 3,
     "metadata": {},
     "output_type": "execute_result"
    }
   ],
   "source": [
    "news = pd.concat([true_news, fake_news])\n",
    "news"
   ]
  },
  {
   "cell_type": "markdown",
   "metadata": {},
   "source": [
    "# $\\color{darkblue}{\\text{Exploratory alanysis}}$"
   ]
  },
  {
   "cell_type": "code",
   "execution_count": 4,
   "metadata": {},
   "outputs": [
    {
     "data": {
      "text/plain": [
       "<AxesSubplot:xlabel='index'>"
      ]
     },
     "execution_count": 4,
     "metadata": {},
     "output_type": "execute_result"
    },
    {
     "data": {
      "image/png": "[encoded data removed]",
      "text/plain": [
       "<Figure size 432x288 with 1 Axes>"
      ]
     },
     "metadata": {
      "needs_background": "light"
     },
     "output_type": "display_data"
    }
   ],
   "source": [
    "import matplotlib.pyplot as plt\n",
    "import seaborn as sns\n",
    "%matplotlib inline\n",
    "\n",
    "n=news['ToF'].value_counts().to_frame().reset_index()\n",
    "n.plot.bar(x='index', y='ToF', rot=45, color=['r', 'g'], legend=None)\n"
   ]
  },
  {
   "cell_type": "markdown",
   "metadata": {},
   "source": [
    "### $\\color{darkblue}{\\text{Word tokenizer}}$"
   ]
  },
  {
   "cell_type": "code",
   "execution_count": 5,
   "metadata": {},
   "outputs": [],
   "source": [
    "salida=[w for w in news.loc[:][\"text\"]]\n",
    "texto=\"\".join(salida)"
   ]
  },
  {
   "cell_type": "code",
   "execution_count": 6,
   "metadata": {},
   "outputs": [],
   "source": [
    "from nltk.tokenize import word_tokenize   \n",
    "tokens = word_tokenize(texto)"
   ]
  },
  {
   "cell_type": "code",
   "execution_count": 7,
   "metadata": {},
   "outputs": [
    {
     "name": "stdout",
     "output_type": "stream",
     "text": [
      "Número de token únicos: 258182\n"
     ]
    }
   ],
   "source": [
    "print(\"Número de token únicos:\",len(set(tokens)))"
   ]
  },
  {
   "cell_type": "markdown",
   "metadata": {},
   "source": [
    "### $\\color{darkblue}{\\text{Phrase tokenizer}}$"
   ]
  },
  {
   "cell_type": "code",
   "execution_count": 8,
   "metadata": {},
   "outputs": [
    {
     "name": "stdout",
     "output_type": "stream",
     "text": [
      "Número de frases: 643563\n"
     ]
    }
   ],
   "source": [
    "from nltk.tokenize import sent_tokenize\n",
    "\n",
    "salida=sent_tokenize(texto)\n",
    "print('Número de frases:',len(salida)) "
   ]
  },
  {
   "cell_type": "markdown",
   "metadata": {},
   "source": [
    "### $\\color{darkblue}{\\text{Diversity}}$"
   ]
  },
  {
   "cell_type": "code",
   "execution_count": 9,
   "metadata": {},
   "outputs": [
    {
     "name": "stdout",
     "output_type": "stream",
     "text": [
      "diversidad: 78.7796283242054\n"
     ]
    }
   ],
   "source": [
    "print('diversidad:',len(tokens)/len(set(tokens)))"
   ]
  },
  {
   "cell_type": "markdown",
   "metadata": {},
   "source": [
    "### $\\color{darkblue}{\\text{Frequency distribution}}$"
   ]
  },
  {
   "cell_type": "code",
   "execution_count": 10,
   "metadata": {},
   "outputs": [],
   "source": [
    "from nltk import FreqDist\n",
    "freq = FreqDist(tokens)"
   ]
  },
  {
   "cell_type": "code",
   "execution_count": 11,
   "metadata": {},
   "outputs": [
    {
     "data": {
      "image/png": "[encoded data removed]",
      "text/plain": [
       "<Figure size 1080x432 with 1 Axes>"
      ]
     },
     "metadata": {
      "needs_background": "light"
     },
     "output_type": "display_data"
    },
    {
     "data": {
      "text/plain": [
       "<AxesSubplot:xlabel='Samples', ylabel='Counts'>"
      ]
     },
     "execution_count": 11,
     "metadata": {},
     "output_type": "execute_result"
    }
   ],
   "source": [
    "plt.figure(figsize=(15,6))\n",
    "freq.plot(40, cumulative=False)"
   ]
  },
  {
   "cell_type": "markdown",
   "metadata": {},
   "source": [
    "### $\\color{darkblue}{\\text{Deleting stop words}}$"
   ]
  },
  {
   "cell_type": "code",
   "execution_count": 12,
   "metadata": {},
   "outputs": [],
   "source": [
    "from nltk.corpus import stopwords\n",
    "\n",
    "stop=stopwords.words('english')\n",
    "\n",
    "def delete_stopwords (text):\n",
    "    palabras=text.split(\" \")\n",
    "    lista=[w.lower() for w in palabras if w.lower() not in stop]\n",
    "    lista=\" \".join(lista)\n",
    "    return(lista)\n",
    "\n",
    "texto_modif = delete_stopwords(texto)"
   ]
  },
  {
   "cell_type": "markdown",
   "metadata": {},
   "source": [
    "### $\\color{darkblue}{\\text{Deleting punctuation marks }}$"
   ]
  },
  {
   "cell_type": "code",
   "execution_count": 13,
   "metadata": {},
   "outputs": [],
   "source": [
    "import re, string\n",
    "\n",
    "def remove_punctuation ( text ):\n",
    "    return re.sub('[%s]' % re.escape(string.punctuation), ' ', text)\n",
    "\n",
    "texto_modif = remove_punctuation(texto_modif)"
   ]
  },
  {
   "cell_type": "markdown",
   "metadata": {},
   "source": [
    "### $\\color{darkblue}{\\text{lemmatization}}$"
   ]
  },
  {
   "cell_type": "code",
   "execution_count": 14,
   "metadata": {},
   "outputs": [],
   "source": [
    "from nltk.stem import SnowballStemmer  ## FUNCIONA EN ESPAÑOL\n",
    "\n",
    "stemmer = SnowballStemmer(\"english\")\n",
    "\n",
    "def lemmatize(text):\n",
    "    palabras=text.split(\" \")\n",
    "    lista=[stemmer.stem(w) for w in palabras]\n",
    "    lista=\" \".join(lista)\n",
    "    return(lista)\n",
    "\n",
    "texto_modif = lemmatize(texto_modif)\n",
    "tokens_modif = word_tokenize(texto_modif)"
   ]
  },
  {
   "cell_type": "code",
   "execution_count": 15,
   "metadata": {},
   "outputs": [],
   "source": [
    "freq = FreqDist(tokens_modif)"
   ]
  },
  {
   "cell_type": "code",
   "execution_count": 16,
   "metadata": {},
   "outputs": [
    {
     "data": {
      "image/png": "[encoded data removed]",
      "text/plain": [
       "<Figure size 1080x432 with 1 Axes>"
      ]
     },
     "metadata": {
      "needs_background": "light"
     },
     "output_type": "display_data"
    },
    {
     "data": {
      "text/plain": [
       "<AxesSubplot:xlabel='Samples', ylabel='Counts'>"
      ]
     },
     "execution_count": 16,
     "metadata": {},
     "output_type": "execute_result"
    }
   ],
   "source": [
    "plt.figure(figsize=(15,6))\n",
    "freq.plot(40, cumulative=False)"
   ]
  },
  {
   "cell_type": "markdown",
   "metadata": {},
   "source": [
    "# $\\color{darkblue}{\\text{Training Models}}$"
   ]
  },
  {
   "cell_type": "code",
   "execution_count": 122,
   "metadata": {},
   "outputs": [],
   "source": [
    "predictions = {}\n",
    "models = {}\n",
    "roc = {}"
   ]
  },
  {
   "cell_type": "code",
   "execution_count": 89,
   "metadata": {},
   "outputs": [],
   "source": [
    "news = pd.concat([true_news.head(250), fake_news.head(50)]) #temporal"
   ]
  },
  {
   "cell_type": "code",
   "execution_count": 90,
   "metadata": {},
   "outputs": [],
   "source": [
    "## discretización de variables categóricas a binarias\n",
    "news['ToF2'] = 0\n",
    "news.loc[news['ToF'] =='TRUE','ToF2']=1"
   ]
  },
  {
   "cell_type": "code",
   "execution_count": 91,
   "metadata": {},
   "outputs": [
    {
     "data": {
      "text/html": [
       "<div>\n",
       "<style scoped>\n",
       "    .dataframe tbody tr th:only-of-type {\n",
       "        vertical-align: middle;\n",
       "    }\n",
       "\n",
       "    .dataframe tbody tr th {\n",
       "        vertical-align: top;\n",
       "    }\n",
       "\n",
       "    .dataframe thead th {\n",
       "        text-align: right;\n",
       "    }\n",
       "</style>\n",
       "<table border=\"1\" class=\"dataframe\">\n",
       "  <thead>\n",
       "    <tr style=\"text-align: right;\">\n",
       "      <th></th>\n",
       "      <th>title</th>\n",
       "      <th>text</th>\n",
       "      <th>subject</th>\n",
       "      <th>date</th>\n",
       "      <th>ToF</th>\n",
       "      <th>ToF2</th>\n",
       "    </tr>\n",
       "  </thead>\n",
       "  <tbody>\n",
       "    <tr>\n",
       "      <th>0</th>\n",
       "      <td>As U.S. budget fight looms, Republicans flip t...</td>\n",
       "      <td>WASHINGTON (Reuters) - The head of a conservat...</td>\n",
       "      <td>politicsNews</td>\n",
       "      <td>December 31, 2017</td>\n",
       "      <td>TRUE</td>\n",
       "      <td>1</td>\n",
       "    </tr>\n",
       "    <tr>\n",
       "      <th>1</th>\n",
       "      <td>U.S. military to accept transgender recruits o...</td>\n",
       "      <td>WASHINGTON (Reuters) - Transgender people will...</td>\n",
       "      <td>politicsNews</td>\n",
       "      <td>December 29, 2017</td>\n",
       "      <td>TRUE</td>\n",
       "      <td>1</td>\n",
       "    </tr>\n",
       "    <tr>\n",
       "      <th>2</th>\n",
       "      <td>Senior U.S. Republican senator: 'Let Mr. Muell...</td>\n",
       "      <td>WASHINGTON (Reuters) - The special counsel inv...</td>\n",
       "      <td>politicsNews</td>\n",
       "      <td>December 31, 2017</td>\n",
       "      <td>TRUE</td>\n",
       "      <td>1</td>\n",
       "    </tr>\n",
       "    <tr>\n",
       "      <th>3</th>\n",
       "      <td>FBI Russia probe helped by Australian diplomat...</td>\n",
       "      <td>WASHINGTON (Reuters) - Trump campaign adviser ...</td>\n",
       "      <td>politicsNews</td>\n",
       "      <td>December 30, 2017</td>\n",
       "      <td>TRUE</td>\n",
       "      <td>1</td>\n",
       "    </tr>\n",
       "    <tr>\n",
       "      <th>4</th>\n",
       "      <td>Trump wants Postal Service to charge 'much mor...</td>\n",
       "      <td>SEATTLE/WASHINGTON (Reuters) - President Donal...</td>\n",
       "      <td>politicsNews</td>\n",
       "      <td>December 29, 2017</td>\n",
       "      <td>TRUE</td>\n",
       "      <td>1</td>\n",
       "    </tr>\n",
       "    <tr>\n",
       "      <th>...</th>\n",
       "      <td>...</td>\n",
       "      <td>...</td>\n",
       "      <td>...</td>\n",
       "      <td>...</td>\n",
       "      <td>...</td>\n",
       "      <td>...</td>\n",
       "    </tr>\n",
       "    <tr>\n",
       "      <th>45</th>\n",
       "      <td>White House Panics Knowing Flynn Is Going To ...</td>\n",
       "      <td>While Donald Trump has been taking vacations, ...</td>\n",
       "      <td>News</td>\n",
       "      <td>December 1, 2017</td>\n",
       "      <td>FAKE</td>\n",
       "      <td>0</td>\n",
       "    </tr>\n",
       "    <tr>\n",
       "      <th>46</th>\n",
       "      <td>BREAKING: Michael Flynn CRACKS – Will Testify...</td>\n",
       "      <td>Michael Flynn, Trump s embattled former nation...</td>\n",
       "      <td>News</td>\n",
       "      <td>December 1, 2017</td>\n",
       "      <td>FAKE</td>\n",
       "      <td>0</td>\n",
       "    </tr>\n",
       "    <tr>\n",
       "      <th>47</th>\n",
       "      <td>Trump Gets An Epic F**ck You From Britain Ove...</td>\n",
       "      <td>Donald Trump has a white supremacy problem, an...</td>\n",
       "      <td>News</td>\n",
       "      <td>December 1, 2017</td>\n",
       "      <td>FAKE</td>\n",
       "      <td>0</td>\n",
       "    </tr>\n",
       "    <tr>\n",
       "      <th>48</th>\n",
       "      <td>This Hilarious Campaign Ad Shows Voters How T...</td>\n",
       "      <td>In Michigan, the upcoming election in 2018 pre...</td>\n",
       "      <td>News</td>\n",
       "      <td>November 30, 2017</td>\n",
       "      <td>FAKE</td>\n",
       "      <td>0</td>\n",
       "    </tr>\n",
       "    <tr>\n",
       "      <th>49</th>\n",
       "      <td>Joe Scarborough: It’s Not Our Imagination – T...</td>\n",
       "      <td>People have long speculated about Donald Trump...</td>\n",
       "      <td>News</td>\n",
       "      <td>November 30, 2017</td>\n",
       "      <td>FAKE</td>\n",
       "      <td>0</td>\n",
       "    </tr>\n",
       "  </tbody>\n",
       "</table>\n",
       "<p>300 rows × 6 columns</p>\n",
       "</div>"
      ],
      "text/plain": [
       "                                                title  \\\n",
       "0   As U.S. budget fight looms, Republicans flip t...   \n",
       "1   U.S. military to accept transgender recruits o...   \n",
       "2   Senior U.S. Republican senator: 'Let Mr. Muell...   \n",
       "3   FBI Russia probe helped by Australian diplomat...   \n",
       "4   Trump wants Postal Service to charge 'much mor...   \n",
       "..                                                ...   \n",
       "45   White House Panics Knowing Flynn Is Going To ...   \n",
       "46   BREAKING: Michael Flynn CRACKS – Will Testify...   \n",
       "47   Trump Gets An Epic F**ck You From Britain Ove...   \n",
       "48   This Hilarious Campaign Ad Shows Voters How T...   \n",
       "49   Joe Scarborough: It’s Not Our Imagination – T...   \n",
       "\n",
       "                                                 text       subject  \\\n",
       "0   WASHINGTON (Reuters) - The head of a conservat...  politicsNews   \n",
       "1   WASHINGTON (Reuters) - Transgender people will...  politicsNews   \n",
       "2   WASHINGTON (Reuters) - The special counsel inv...  politicsNews   \n",
       "3   WASHINGTON (Reuters) - Trump campaign adviser ...  politicsNews   \n",
       "4   SEATTLE/WASHINGTON (Reuters) - President Donal...  politicsNews   \n",
       "..                                                ...           ...   \n",
       "45  While Donald Trump has been taking vacations, ...          News   \n",
       "46  Michael Flynn, Trump s embattled former nation...          News   \n",
       "47  Donald Trump has a white supremacy problem, an...          News   \n",
       "48  In Michigan, the upcoming election in 2018 pre...          News   \n",
       "49  People have long speculated about Donald Trump...          News   \n",
       "\n",
       "                  date   ToF  ToF2  \n",
       "0   December 31, 2017   TRUE     1  \n",
       "1   December 29, 2017   TRUE     1  \n",
       "2   December 31, 2017   TRUE     1  \n",
       "3   December 30, 2017   TRUE     1  \n",
       "4   December 29, 2017   TRUE     1  \n",
       "..                 ...   ...   ...  \n",
       "45    December 1, 2017  FAKE     0  \n",
       "46    December 1, 2017  FAKE     0  \n",
       "47    December 1, 2017  FAKE     0  \n",
       "48   November 30, 2017  FAKE     0  \n",
       "49   November 30, 2017  FAKE     0  \n",
       "\n",
       "[300 rows x 6 columns]"
      ]
     },
     "execution_count": 91,
     "metadata": {},
     "output_type": "execute_result"
    }
   ],
   "source": [
    "news"
   ]
  },
  {
   "cell_type": "code",
   "execution_count": 92,
   "metadata": {},
   "outputs": [
    {
     "name": "stdout",
     "output_type": "stream",
     "text": [
      "Porcentaje de criticas positivas: 83.33333333333333\n"
     ]
    }
   ],
   "source": [
    "print('Porcentaje de criticas positivas:',100*sum(news['ToF'] =='TRUE')/news.shape[0]) "
   ]
  },
  {
   "cell_type": "markdown",
   "metadata": {},
   "source": [
    "## $\\color{darkblue}{\\text{Deep learning: Recurrent Neural Networks (LSTM)}}$"
   ]
  },
  {
   "cell_type": "code",
   "execution_count": 93,
   "metadata": {},
   "outputs": [],
   "source": [
    "from sklearn.model_selection import train_test_split\n",
    "X_train, X_test, y_train, y_test = train_test_split(news.text, news.ToF2, test_size=0.30)"
   ]
  },
  {
   "cell_type": "code",
   "execution_count": 94,
   "metadata": {},
   "outputs": [],
   "source": [
    "from keras.preprocessing.text import Tokenizer\n",
    "\n",
    "tokenizer = Tokenizer()\n",
    "tokenizer.fit_on_texts(X_train)"
   ]
  },
  {
   "cell_type": "code",
   "execution_count": 95,
   "metadata": {},
   "outputs": [],
   "source": [
    "# vectorizando los textos\n",
    "X_train = tokenizer.texts_to_sequences(X_train)\n",
    "X_test = tokenizer.texts_to_sequences(X_test)"
   ]
  },
  {
   "cell_type": "code",
   "execution_count": 96,
   "metadata": {},
   "outputs": [],
   "source": [
    "# preprocesando los ficheros\n",
    "from keras.preprocessing.sequence import pad_sequences\n",
    "\n",
    "X_train = pad_sequences(X_train )\n",
    "X_test = pad_sequences(X_test )"
   ]
  },
  {
   "cell_type": "code",
   "execution_count": 97,
   "metadata": {},
   "outputs": [
    {
     "name": "stdout",
     "output_type": "stream",
     "text": [
      "Epoch 1/5\n",
      "7/7 - 8s - loss: 0.6813 - accuracy: 0.7333\n",
      "Epoch 2/5\n",
      "7/7 - 5s - loss: 0.6551 - accuracy: 0.9286\n",
      "Epoch 3/5\n",
      "7/7 - 5s - loss: 0.6206 - accuracy: 0.9571\n",
      "Epoch 4/5\n",
      "7/7 - 5s - loss: 0.5833 - accuracy: 0.9619\n",
      "Epoch 5/5\n",
      "7/7 - 5s - loss: 0.5447 - accuracy: 0.9619\n",
      "3/3 [==============================] - 1s 76ms/step - loss: 0.5202 - accuracy: 0.9889\n",
      "Test loss 0.5201525092124939\n",
      "Test accuracy 0.9888888597488403\n"
     ]
    }
   ],
   "source": [
    "from keras.models import Sequential\n",
    "from keras.layers.core import Dense, Activation, Dropout\n",
    "from keras.layers.embeddings import Embedding\n",
    "from keras.layers.recurrent import LSTM\n",
    "\n",
    "model = Sequential()\n",
    "model.add(Embedding(input_dim = len(tokenizer.word_index)+1, output_dim = 64))\n",
    "model.add(LSTM(4, input_length = 300))\n",
    "model.add(Dropout(0.5))\n",
    "model.add(Dense(1))\n",
    "model.add(Activation('sigmoid'))\n",
    "\n",
    "model.compile(loss='binary_crossentropy', optimizer='adam', metrics=['accuracy'])\n",
    "\n",
    "lstm_fit=model.fit(X_train, # Training data\n",
    "                   y_train, # Labels of training data\n",
    "                   #batch_size=128, # Batch size for the optimizer algorithm\n",
    "                   epochs=5, # Number of epochs to run the optimizer algorithm\n",
    "                   verbose=2 # Level of verbosity of the log messages\n",
    ")\n",
    "#preds = model.predict_classes(X_test) #deprecated\n",
    "#preds = model.predict(X_test)\n",
    "#threshold=.5\n",
    "preds = np.where(model.predict(X_test) > .5, 1,0)\n",
    "\n",
    "score = model.evaluate(X_test, y_test)\n",
    "print(\"Test loss\", score[0])\n",
    "print(\"Test accuracy\", score[1])"
   ]
  },
  {
   "cell_type": "markdown",
   "metadata": {},
   "source": [
    "#### $\\color{darkblue}{\\text{Confusion matrix}}$"
   ]
  },
  {
   "cell_type": "code",
   "execution_count": 28,
   "metadata": {},
   "outputs": [
    {
     "data": {
      "text/html": [
       "<div>\n",
       "<style scoped>\n",
       "    .dataframe tbody tr th:only-of-type {\n",
       "        vertical-align: middle;\n",
       "    }\n",
       "\n",
       "    .dataframe tbody tr th {\n",
       "        vertical-align: top;\n",
       "    }\n",
       "\n",
       "    .dataframe thead th {\n",
       "        text-align: right;\n",
       "    }\n",
       "</style>\n",
       "<table border=\"1\" class=\"dataframe\">\n",
       "  <thead>\n",
       "    <tr style=\"text-align: right;\">\n",
       "      <th></th>\n",
       "      <th>P</th>\n",
       "      <th>N</th>\n",
       "    </tr>\n",
       "  </thead>\n",
       "  <tbody>\n",
       "    <tr>\n",
       "      <th>P</th>\n",
       "      <td>73</td>\n",
       "      <td>0</td>\n",
       "    </tr>\n",
       "    <tr>\n",
       "      <th>N</th>\n",
       "      <td>3</td>\n",
       "      <td>14</td>\n",
       "    </tr>\n",
       "  </tbody>\n",
       "</table>\n",
       "</div>"
      ],
      "text/plain": [
       "    P   N\n",
       "P  73   0\n",
       "N   3  14"
      ]
     },
     "execution_count": 28,
     "metadata": {},
     "output_type": "execute_result"
    }
   ],
   "source": [
    "matconf={}\n",
    "matconf['F']={'N':sum(np.array(np.ravel(preds ==1)) & np.array(y_test == 1)),\n",
    "               'P':sum(np.array(np.ravel(preds == 1)) & np.array(y_test == 0))}\n",
    "matconf['T']={'N':sum(np.array(np.ravel(preds == 0)) & np.array(y_test == 1)),\n",
    "               'P':sum(np.array(np.ravel(preds == 0)) & np.array(y_test == 0))}\n",
    "matconfpd=pd.DataFrame(matconf)\n",
    "indices=['P','N']\n",
    "filas=['P','N']\n",
    "matconfpd.columns=indices\n",
    "matconfpd.index=filas\n",
    "matconfpd"
   ]
  },
  {
   "cell_type": "markdown",
   "metadata": {},
   "source": [
    "#### $\\color{darkblue}{\\text{Metrics}}$"
   ]
  },
  {
   "cell_type": "code",
   "execution_count": 29,
   "metadata": {},
   "outputs": [
    {
     "name": "stdout",
     "output_type": "stream",
     "text": [
      "Confusion matrix:\n",
      " [[14  3]\n",
      " [ 0 73]]\n",
      "Accuracy 0.9666666666666667\n",
      "Precision: 0.9802631578947368\n",
      "Recall: 0.9117647058823529\n",
      "F1_Score: 0.9415457891318467\n"
     ]
    }
   ],
   "source": [
    "from sklearn.metrics import f1_score, precision_score, recall_score, confusion_matrix, accuracy_score\n",
    "\n",
    "print(\"Confusion matrix:\\n\", confusion_matrix(y_test,preds))\n",
    "print(\"Accuracy\",accuracy_score(y_test, preds))\n",
    "print(\"Precision:\",precision_score(y_test, preds, average=\"macro\"))\n",
    "print(\"Recall:\",recall_score(y_test, preds , average=\"macro\"))\n",
    "print(\"F1_Score:\", f1_score(y_test, preds , average=\"macro\"))"
   ]
  },
  {
   "cell_type": "code",
   "execution_count": 120,
   "metadata": {},
   "outputs": [
    {
     "data": {
      "image/png": "[encoded data removed]",
      "text/plain": [
       "<Figure size 432x288 with 1 Axes>"
      ]
     },
     "metadata": {
      "needs_background": "light"
     },
     "output_type": "display_data"
    },
    {
     "name": "stdout",
     "output_type": "stream",
     "text": [
      "[0.         0.06666667 1.        ]\n"
     ]
    }
   ],
   "source": [
    "from sklearn.metrics import roc_curve, roc_auc_score\n",
    "from matplotlib import pyplot\n",
    "\n",
    "fpr, tpr, thresholds = roc_curve(y_test, preds)\n",
    "\n",
    "auc = roc_auc_score(y_test, preds)\n",
    "fpr, tpr, thresholds = roc_curve(y_test,  preds)\n",
    "\n",
    "plt.plot(fpr,tpr, linestyle='--', marker='.',label=\"data 1, auc=\"+str(auc))\n",
    "plt.legend(loc=4)\n",
    "plt.show()\n"
   ]
  },
  {
   "cell_type": "code",
   "execution_count": 123,
   "metadata": {},
   "outputs": [],
   "source": [
    "models['LSTM']=lstm_fit\n",
    "predictions['LSTM'] = preds\n",
    "roc['LSTM'] = {'fpr':fpr, 'tpr': tpr, 'thresholds': thresholds}"
   ]
  },
  {
   "cell_type": "markdown",
   "metadata": {},
   "source": [
    "## $\\color{darkblue}{\\text{Machine learning: Logistic regression}}$"
   ]
  },
  {
   "cell_type": "code",
   "execution_count": 31,
   "metadata": {},
   "outputs": [],
   "source": [
    "news[\"text_modif\"] = news.text.apply(delete_stopwords)       #Deleting stop words"
   ]
  },
  {
   "cell_type": "code",
   "execution_count": 32,
   "metadata": {},
   "outputs": [],
   "source": [
    "news.text_modif = news.text_modif.apply(remove_punctuation)  #Deleting punctuation marks"
   ]
  },
  {
   "cell_type": "code",
   "execution_count": 33,
   "metadata": {},
   "outputs": [],
   "source": [
    "news.text_modif=news.text_modif.apply(lemmatize)       # Lemmatization"
   ]
  },
  {
   "cell_type": "code",
   "execution_count": 34,
   "metadata": {},
   "outputs": [],
   "source": [
    "from sklearn.feature_extraction.text import CountVectorizer\n",
    "\n",
    "count = CountVectorizer()\n",
    "docs = np.array(news.text_modif)\n",
    "bag = count.fit_transform(docs)   # Vectorizing. Using Bag of Words (BOW) "
   ]
  },
  {
   "cell_type": "code",
   "execution_count": 35,
   "metadata": {},
   "outputs": [],
   "source": [
    "X_train, X_test, y_train, y_test = train_test_split(bag.toarray(), news.ToF2, test_size=0.30)"
   ]
  },
  {
   "cell_type": "code",
   "execution_count": 36,
   "metadata": {},
   "outputs": [],
   "source": [
    "from sklearn.linear_model import LogisticRegression\n",
    "\n",
    "lr = LogisticRegression()\n",
    "lr_fit = lr.fit(X_train,y_train)\n",
    "pred = lr.predict(X_test)"
   ]
  },
  {
   "cell_type": "code",
   "execution_count": 83,
   "metadata": {},
   "outputs": [],
   "source": [
    "models['logit_bow']=lr_fit\n",
    "predictions['logit_bow'] = pred"
   ]
  },
  {
   "cell_type": "code",
   "execution_count": 38,
   "metadata": {},
   "outputs": [
    {
     "name": "stdout",
     "output_type": "stream",
     "text": [
      "Confusion matrix:\n",
      " [[10  5]\n",
      " [ 0 75]]\n",
      "Accuracy 0.9444444444444444\n",
      "Precision: 0.96875\n",
      "Recall: 0.8333333333333333\n",
      "F1_Score: 0.8838709677419355\n"
     ]
    }
   ],
   "source": [
    "print(\"Confusion matrix:\\n\", confusion_matrix(y_test,pred))\n",
    "print(\"Accuracy\",accuracy_score(y_test, pred))\n",
    "print(\"Precision:\",precision_score(y_test, pred, average=\"macro\"))\n",
    "print(\"Recall:\",recall_score(y_test, pred , average=\"macro\"))\n",
    "print(\"F1_Score:\", f1_score(y_test, pred , average=\"macro\"))"
   ]
  },
  {
   "cell_type": "code",
   "execution_count": 39,
   "metadata": {
    "scrolled": true
   },
   "outputs": [
    {
     "data": {
      "image/png": "[encoded data removed]",
      "text/plain": [
       "<Figure size 432x288 with 1 Axes>"
      ]
     },
     "metadata": {
      "needs_background": "light"
     },
     "output_type": "display_data"
    }
   ],
   "source": [
    "auc = roc_auc_score(y_test, pred)\n",
    "fpr, tpr, thresholds = roc_curve(y_test,  pred)\n",
    "\n",
    "plt.plot(fpr,tpr, linestyle='--', marker='.',label=\"data 1, auc=\"+str(auc))\n",
    "plt.legend(loc=4)\n",
    "plt.show()\n"
   ]
  },
  {
   "cell_type": "markdown",
   "metadata": {},
   "source": [
    "#### $\\color{darkblue}{\\text{Using TF-IDF}}$"
   ]
  },
  {
   "cell_type": "code",
   "execution_count": 40,
   "metadata": {},
   "outputs": [],
   "source": [
    "from sklearn.feature_extraction.text import TfidfVectorizer\n",
    "\n",
    "tfidf = TfidfVectorizer(min_df=2, max_df=0.5, ngram_range=(1,3)) \n",
    "features = tfidf.fit_transform(news.text)\n",
    "\n",
    "#df=features.toarray()\n",
    "df_TFIDF=features.todense()"
   ]
  },
  {
   "cell_type": "code",
   "execution_count": 41,
   "metadata": {},
   "outputs": [],
   "source": [
    "X_train, X_test, y_train, y_test = train_test_split(df_TFIDF, news.ToF2, test_size=0.30)\n",
    "\n",
    "from sklearn.linear_model import LogisticRegression\n",
    "lr = LogisticRegression()\n",
    "lr_fit = lr.fit(X_train,y_train)\n",
    "pred = lr.predict(X_test)"
   ]
  },
  {
   "cell_type": "code",
   "execution_count": 43,
   "metadata": {},
   "outputs": [
    {
     "name": "stdout",
     "output_type": "stream",
     "text": [
      "Confusion matrix:\n",
      " [[ 0 11]\n",
      " [ 0 79]]\n",
      "Accuracy 0.8777777777777778\n",
      "Recall: 0.5\n",
      "F1_Score: 0.46745562130177515\n"
     ]
    }
   ],
   "source": [
    "print(\"Confusion matrix:\\n\", confusion_matrix(y_test,pred))\n",
    "print(\"Accuracy\",accuracy_score(y_test, pred))\n",
    "print(\"Recall:\",recall_score(y_test, pred , average=\"macro\"))\n",
    "print(\"F1_Score:\", f1_score(y_test, pred , average=\"macro\"))"
   ]
  },
  {
   "cell_type": "code",
   "execution_count": 44,
   "metadata": {},
   "outputs": [
    {
     "data": {
      "image/png": "[encoded data removed]",
      "text/plain": [
       "<Figure size 432x288 with 1 Axes>"
      ]
     },
     "metadata": {
      "needs_background": "light"
     },
     "output_type": "display_data"
    }
   ],
   "source": [
    "auc = roc_auc_score(y_test, pred)\n",
    "fpr, tpr, thresholds = roc_curve(y_test, pred)\n",
    "\n",
    "plt.plot(fpr,tpr, linestyle='--', marker='.',label=\"data 1, auc=\"+str(auc))\n",
    "plt.legend(loc=4)\n",
    "plt.show()\n"
   ]
  },
  {
   "cell_type": "code",
   "execution_count": 85,
   "metadata": {},
   "outputs": [],
   "source": [
    "models['logit_ifidf']=lstm_fit\n",
    "predictions['logit_ifidf'] = pred\n",
    "roc['logit_ifidf'] = {'fpr':fpr, 'tpr': tpr, 'thresholds': thresholds}"
   ]
  },
  {
   "cell_type": "markdown",
   "metadata": {},
   "source": [
    "## $\\color{darkblue}{\\text{Naive Bayes}}$"
   ]
  },
  {
   "cell_type": "code",
   "execution_count": 45,
   "metadata": {},
   "outputs": [
    {
     "data": {
      "text/plain": [
       "0.8666666666666667"
      ]
     },
     "execution_count": 45,
     "metadata": {},
     "output_type": "execute_result"
    }
   ],
   "source": [
    "X_train, X_test, y_train, y_test = train_test_split(bag.toarray(), news.ToF2, test_size=0.30)\n",
    "\n",
    "from sklearn.naive_bayes import GaussianNB\n",
    "clf = GaussianNB()\n",
    "clf_fit = clf.fit(X_train,y_train)\n",
    "pred = clf.predict(X_test)\n",
    "clf.score(X_test,y_test)\n"
   ]
  },
  {
   "cell_type": "code",
   "execution_count": 47,
   "metadata": {},
   "outputs": [
    {
     "name": "stdout",
     "output_type": "stream",
     "text": [
      "Confusion matrix:\n",
      " [[ 4 12]\n",
      " [ 0 74]]\n",
      "Accuracy 0.8666666666666667\n",
      "Recall: 0.625\n",
      "F1_Score: 0.6625\n",
      "AUC: 0.62500\n"
     ]
    },
    {
     "data": {
      "image/png": "[encoded data removed]",
      "text/plain": [
       "<Figure size 432x288 with 1 Axes>"
      ]
     },
     "metadata": {
      "needs_background": "light"
     },
     "output_type": "display_data"
    }
   ],
   "source": [
    "print(\"Confusion matrix:\\n\", confusion_matrix(y_test,pred))\n",
    "print(\"Accuracy\",accuracy_score(y_test, pred))\n",
    "print(\"Recall:\",recall_score(y_test, pred , average=\"macro\"))\n",
    "print(\"F1_Score:\", f1_score(y_test, pred , average=\"macro\"))\n",
    "\n",
    "auc = roc_auc_score(y_test, pred)\n",
    "fpr, tpr, thresholds = roc_curve(y_test,  pred)\n",
    "plt.plot(fpr,tpr, linestyle='--', marker='.',label=\"data 1, auc=\"+str(auc))\n",
    "plt.legend(loc=4)\n",
    "plt.show()\n"
   ]
  },
  {
   "cell_type": "code",
   "execution_count": 46,
   "metadata": {},
   "outputs": [],
   "source": [
    "models['NB']=clf_fit\n",
    "predictions['NB'] = pred\n",
    "roc['NB'] = {'fpr':fpr, 'tpr': tpr, 'thresholds': thresholds}"
   ]
  },
  {
   "cell_type": "markdown",
   "metadata": {},
   "source": [
    "## $\\color{darkblue}{\\text{Random forest}}$"
   ]
  },
  {
   "cell_type": "code",
   "execution_count": 48,
   "metadata": {},
   "outputs": [
    {
     "name": "stdout",
     "output_type": "stream",
     "text": [
      "building tree 1 of 1\n"
     ]
    },
    {
     "name": "stderr",
     "output_type": "stream",
     "text": [
      "[Parallel(n_jobs=1)]: Using backend SequentialBackend with 1 concurrent workers.\n",
      "[Parallel(n_jobs=1)]: Done   1 out of   1 | elapsed:    0.0s remaining:    0.0s\n",
      "[Parallel(n_jobs=1)]: Done   1 out of   1 | elapsed:    0.0s finished\n",
      "[Parallel(n_jobs=1)]: Using backend SequentialBackend with 1 concurrent workers.\n",
      "[Parallel(n_jobs=1)]: Done   1 out of   1 | elapsed:    0.0s remaining:    0.0s\n",
      "[Parallel(n_jobs=1)]: Done   1 out of   1 | elapsed:    0.0s finished\n",
      "[Parallel(n_jobs=1)]: Using backend SequentialBackend with 1 concurrent workers.\n",
      "[Parallel(n_jobs=1)]: Done   1 out of   1 | elapsed:    0.0s remaining:    0.0s\n",
      "[Parallel(n_jobs=1)]: Done   1 out of   1 | elapsed:    0.0s finished\n"
     ]
    },
    {
     "data": {
      "text/plain": [
       "0.8555555555555555"
      ]
     },
     "execution_count": 48,
     "metadata": {},
     "output_type": "execute_result"
    }
   ],
   "source": [
    "from sklearn.ensemble import RandomForestClassifier\n",
    "\n",
    "from sklearn.model_selection import train_test_split\n",
    "X_train, X_test, y_train, y_test = train_test_split(bag.toarray(), news.ToF2, test_size=0.30)\n",
    "\n",
    "forest = RandomForestClassifier(n_estimators=1, verbose=2)\n",
    "forest_fit = forest.fit(X_train, y_train)\n",
    "pred=forest.predict(X_test)\n",
    "forest.score(X_test,y_test)\n"
   ]
  },
  {
   "cell_type": "code",
   "execution_count": 51,
   "metadata": {},
   "outputs": [
    {
     "name": "stdout",
     "output_type": "stream",
     "text": [
      "Confusion matrix:\n",
      " [[ 6 12]\n",
      " [ 1 71]]\n",
      "Accuracy 0.8555555555555555\n",
      "Recall: 0.6597222222222222\n",
      "F1_Score: 0.6980645161290322\n"
     ]
    },
    {
     "data": {
      "image/png": "[encoded data removed]",
      "text/plain": [
       "<Figure size 432x288 with 1 Axes>"
      ]
     },
     "metadata": {
      "needs_background": "light"
     },
     "output_type": "display_data"
    }
   ],
   "source": [
    "print(\"Confusion matrix:\\n\", confusion_matrix(y_test,pred))\n",
    "print(\"Accuracy\",accuracy_score(y_test, pred))\n",
    "print(\"Recall:\",recall_score(y_test, pred , average=\"macro\"))\n",
    "print(\"F1_Score:\", f1_score(y_test, pred , average=\"macro\"))\n",
    "\n",
    "auc = roc_auc_score(y_test, pred)\n",
    "fpr, tpr, thresholds = roc_curve(y_test,  pred)\n",
    "\n",
    "plt.plot(fpr,tpr, linestyle='--', marker='.',label=\"data 1, auc=\"+str(auc))\n",
    "plt.legend(loc=4)\n",
    "plt.show()"
   ]
  },
  {
   "cell_type": "code",
   "execution_count": 49,
   "metadata": {},
   "outputs": [],
   "source": [
    "models['RM']=forest_fit\n",
    "predictions['RF'] = pred\n",
    "roc['RF'] = {'fpr':fpr, 'tpr': tpr, 'thresholds': thresholds}"
   ]
  },
  {
   "cell_type": "markdown",
   "metadata": {},
   "source": [
    "## $\\color{darkblue}{\\text{SVM}}$"
   ]
  },
  {
   "cell_type": "code",
   "execution_count": 57,
   "metadata": {},
   "outputs": [
    {
     "data": {
      "text/plain": [
       "0.9888888888888889"
      ]
     },
     "execution_count": 57,
     "metadata": {},
     "output_type": "execute_result"
    }
   ],
   "source": [
    "X_train, X_test, y_train, y_test = train_test_split(bag.toarray(), news.ToF2, test_size=0.30)\n",
    "\n",
    "from sklearn import svm\n",
    "svc = svm.SVC(kernel='linear', C = 1.0)\n",
    "svm_fit = svc.fit(X_train, y_train)\n",
    "pred=svc.predict(X_test)\n",
    "clf.score(X_test,y_test)"
   ]
  },
  {
   "cell_type": "code",
   "execution_count": 59,
   "metadata": {},
   "outputs": [
    {
     "name": "stdout",
     "output_type": "stream",
     "text": [
      "Confusion matrix:\n",
      " [[12  2]\n",
      " [ 0 76]]\n",
      "Accuracy 0.9777777777777777\n",
      "Recall: 0.9285714285714286\n",
      "F1_Score: 0.9550449550449549\n"
     ]
    },
    {
     "data": {
      "image/png": "[encoded data removed]",
      "text/plain": [
       "<Figure size 432x288 with 1 Axes>"
      ]
     },
     "metadata": {
      "needs_background": "light"
     },
     "output_type": "display_data"
    }
   ],
   "source": [
    "print(\"Confusion matrix:\\n\", confusion_matrix(y_test,pred))\n",
    "print(\"Accuracy\",accuracy_score(y_test, pred))\n",
    "print(\"Recall:\",recall_score(y_test, pred , average=\"macro\"))\n",
    "print(\"F1_Score:\", f1_score(y_test, pred , average=\"macro\"))\n",
    "\n",
    "auc = roc_auc_score(y_test, pred)\n",
    "fpr, tpr, thresholds = roc_curve(y_test,  pred)\n",
    "\n",
    "plt.plot(fpr,tpr, linestyle='--', marker='.',label=\"data 1, auc=\"+str(auc))\n",
    "plt.legend(loc=4)\n",
    "plt.show()"
   ]
  },
  {
   "cell_type": "code",
   "execution_count": 125,
   "metadata": {},
   "outputs": [],
   "source": [
    "models['SVM']=svm_fit\n",
    "predictions['SVM'] = pred\n",
    "roc['SVM'] = {'fpr':fpr, 'tpr': tpr, 'thresholds': thresholds}"
   ]
  },
  {
   "cell_type": "markdown",
   "metadata": {},
   "source": [
    "## $\\color{darkblue}{\\text{Comparing results}}$"
   ]
  },
  {
   "cell_type": "code",
   "execution_count": 130,
   "metadata": {},
   "outputs": [
    {
     "ename": "ValueError",
     "evalue": "not enough values to unpack (expected 3, got 2)",
     "output_type": "error",
     "traceback": [
      "\u001b[0;31m---------------------------------------------------------------------------\u001b[0m",
      "\u001b[0;31mValueError\u001b[0m                                Traceback (most recent call last)",
      "\u001b[0;32m<ipython-input-130-bbab2de2a0c4>\u001b[0m in \u001b[0;36m<module>\u001b[0;34m\u001b[0m\n\u001b[1;32m      3\u001b[0m \u001b[0mcolors\u001b[0m \u001b[0;34m=\u001b[0m \u001b[0;34m[\u001b[0m\u001b[0;34m'b'\u001b[0m\u001b[0;34m,\u001b[0m \u001b[0;34m'g'\u001b[0m\u001b[0;34m,\u001b[0m \u001b[0;34m'y'\u001b[0m\u001b[0;34m,\u001b[0m \u001b[0;34m'r'\u001b[0m\u001b[0;34m]\u001b[0m\u001b[0;34m\u001b[0m\u001b[0;34m\u001b[0m\u001b[0m\n\u001b[1;32m      4\u001b[0m \u001b[0mcmp\u001b[0m \u001b[0;34m=\u001b[0m \u001b[0;36m0\u001b[0m\u001b[0;34m\u001b[0m\u001b[0;34m\u001b[0m\u001b[0m\n\u001b[0;32m----> 5\u001b[0;31m \u001b[0;32mfor\u001b[0m \u001b[0mroc_curve\u001b[0m\u001b[0;34m,\u001b[0m \u001b[0mmodel\u001b[0m\u001b[0;34m,\u001b[0m \u001b[0mpredicted\u001b[0m \u001b[0;32min\u001b[0m \u001b[0mpredictions\u001b[0m\u001b[0;34m.\u001b[0m\u001b[0mitems\u001b[0m\u001b[0;34m(\u001b[0m\u001b[0;34m)\u001b[0m\u001b[0;34m:\u001b[0m\u001b[0;34m\u001b[0m\u001b[0;34m\u001b[0m\u001b[0m\n\u001b[0m\u001b[1;32m      6\u001b[0m     \u001b[0;31m#np.set_printoptions(threshold=1)\u001b[0m\u001b[0;34m\u001b[0m\u001b[0;34m\u001b[0m\u001b[0;34m\u001b[0m\u001b[0m\n\u001b[1;32m      7\u001b[0m     \u001b[0;31m#false_positive_rate, true_positive_rate, thresholds = roc_curve[]\u001b[0m\u001b[0;34m\u001b[0m\u001b[0;34m\u001b[0m\u001b[0;34m\u001b[0m\u001b[0m\n",
      "\u001b[0;31mValueError\u001b[0m: not enough values to unpack (expected 3, got 2)"
     ]
    }
   ],
   "source": [
    "import matplotlib.pyplot as plt\n",
    "from sklearn.metrics import roc_curve, auc\n",
    "colors = ['b', 'g', 'y', 'r']\n",
    "cmp = 0\n",
    "for roc, model, predicted in predictions.items():\n",
    "    #np.set_printoptions(threshold=1)\n",
    "    #false_positive_rate, true_positive_rate, thresholds = roc_curve[]\n",
    "    #roc_auc = auc(false_positive_rate, true_positive_rate)\n",
    "    #plt.plot(false_positive_rate, true_positive_rate, colors[cmp], label='%s: AUC %0.2f' % (model, roc_auc))\n",
    "    #roc_auc = auc(false_positive_rate, true_positive_rate)\n",
    "    #plt.plot(roc_curve[]false_positive_rate, true_positive_rate, colors[cmp], label='%s: AUC %0.2f' % (model))\n",
    "    roc['fpr']\n",
    "    \n",
    "\n",
    "\n"
   ]
  },
  {
   "cell_type": "code",
   "execution_count": 132,
   "metadata": {},
   "outputs": [
    {
     "ename": "AttributeError",
     "evalue": "'function' object has no attribute 'items'",
     "output_type": "error",
     "traceback": [
      "\u001b[0;31m---------------------------------------------------------------------------\u001b[0m",
      "\u001b[0;31mAttributeError\u001b[0m                            Traceback (most recent call last)",
      "\u001b[0;32m<ipython-input-132-fa66d36acc39>\u001b[0m in \u001b[0;36m<module>\u001b[0;34m\u001b[0m\n\u001b[0;32m----> 1\u001b[0;31m \u001b[0mroc_curve\u001b[0m\u001b[0;34m.\u001b[0m\u001b[0mitems\u001b[0m\u001b[0;34m(\u001b[0m\u001b[0;34m)\u001b[0m\u001b[0;34m\u001b[0m\u001b[0;34m\u001b[0m\u001b[0m\n\u001b[0m",
      "\u001b[0;31mAttributeError\u001b[0m: 'function' object has no attribute 'items'"
     ]
    }
   ],
   "source": [
    "roc_curve.items()"
   ]
  },
  {
   "cell_type": "code",
   "execution_count": 79,
   "metadata": {},
   "outputs": [
    {
     "name": "stdout",
     "output_type": "stream",
     "text": [
      "{'LSTM': array([[1],\n",
      "       [1],\n",
      "       [0],\n",
      "       ...,\n",
      "       [0],\n",
      "       [1],\n",
      "       [0]]), 'logit_bow': array([1, 1, 1, ..., 1, 1, 1]), 'logit_ifidf': array([1, 1, 1, ..., 1, 1, 1]), 'NB': array([1, 1, 1, ..., 1, 1, 1]), 'RF': array([1, 1, 1, ..., 1, 1, 1]), 'SVM': array([1, 0, 1, ..., 1, 1, 1])}\n"
     ]
    }
   ],
   "source": []
  },
  {
   "cell_type": "markdown",
   "metadata": {},
   "source": [
    "<div class=\"alert-info\">END</div>"
   ]
  },
  {
   "cell_type": "markdown",
   "metadata": {},
   "source": [
    "## Post-modeling discussion"
   ]
  },
  {
   "cell_type": "markdown",
   "metadata": {},
   "source": [
    "#### 1) Let’s say you build a model with the metrics developed in the challenge, which kind of strategy would you use to deploy it in production with the minimum risk for the client?"
   ]
  },
  {
   "cell_type": "markdown",
   "metadata": {},
   "source": [
    "<font color='darkblue'>\n",
    "\n",
    "1. Choose the best-fitted model. \n",
    "2. Create an API  (with or without a user interface) with the chosen model which receives news and returns the result (true or fake). Besides, in order to supervise the model performance, API most creates logs in real-time and reports with KPIs and/or metrics of the news and the model. \n",
    "3. Choose randomly some news and test them manually finding out if the selected news is true or fake and compare them with the result of the model.\n",
    "4. Every so often, \n",
    "add current data to the historical dataset and recalibrate the model and/or test other algorithms to choose the one with the best metrics.\n",
    "\n",
    "\n",
    "</font>"
   ]
  },
  {
   "cell_type": "markdown",
   "metadata": {},
   "source": [
    "#### 2) Once in production, how would you monitor the performances of the model?"
   ]
  },
  {
   "cell_type": "markdown",
   "metadata": {},
   "source": [
    "<font color='darkblue'>\n",
    "\n",
    "1. With logs in real-time it can be reviewing the performance of the model.\n",
    "2. Using KPIs for supervising new entrance and its results it can statistically check if the distribution of true or fake news predicted is acceptable.\n",
    "3. Checking manually some news and find out  if they have the same classify (true or fake) of the model\n",
    "    \n",
    "</font>"
   ]
  },
  {
   "cell_type": "markdown",
   "metadata": {},
   "source": [
    "#### 3) What kind of approach would you use if the business objective changes and the client wants to develop a \"political party detector\"?"
   ]
  },
  {
   "cell_type": "markdown",
   "metadata": {},
   "source": [
    "<font color='darkblue'>\n",
    "\n",
    "It could be presented as two scenarios:\n",
    "1. Assuming I don't have labels of political parties, I will need to find them in the texts so I would use the topic extraction technique (for example LDA algoritm) for finding which political parties the text is talking about. After, it can be manually pre-processed for getting only the topics we want (the political parties), and then apply any other machine learning analysis. \n",
    "2. Assuming we have labeled data of the political party of each entrance (or null if the news isn't about any of them), we just can do directly the analytical process we want.\n",
    "\n",
    "We could answer questions like:\n",
    "- Trending political party\n",
    "- More loved/hated political party\n",
    "- Maybe predict who could win the next elections.\n",
    "- etc.\n",
    "\n",
    "</font>"
   ]
  }
 ],
 "metadata": {
  "kernelspec": {
   "display_name": "Python 3",
   "language": "python",
   "name": "python3"
  },
  "language_info": {
   "codemirror_mode": {
    "name": "ipython",
    "version": 3
   },
   "file_extension": ".py",
   "mimetype": "text/x-python",
   "name": "python",
   "nbconvert_exporter": "python",
   "pygments_lexer": "ipython3",
   "version": "3.6.9"
  }
 },
 "nbformat": 4,
 "nbformat_minor": 4
}
